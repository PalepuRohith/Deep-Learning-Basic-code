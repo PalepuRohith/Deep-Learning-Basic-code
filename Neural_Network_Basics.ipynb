{
  "nbformat": 4,
  "nbformat_minor": 0,
  "metadata": {
    "colab": {
      "provenance": [],
      "authorship_tag": "ABX9TyMH+ojziK4Zh33hejYcAJL1"
    },
    "kernelspec": {
      "name": "python3",
      "display_name": "Python 3"
    },
    "language_info": {
      "name": "python"
    }
  },
  "cells": [
    {
      "cell_type": "code",
      "execution_count": 58,
      "metadata": {
        "id": "2XmxS6o5xaeN"
      },
      "outputs": [],
      "source": []
    },
    {
      "cell_type": "code",
      "source": [
        "import tensorflow\n"
      ],
      "metadata": {
        "id": "hvdfEZjvxfTp"
      },
      "execution_count": 59,
      "outputs": []
    },
    {
      "cell_type": "code",
      "source": [
        "from tensorflow.keras.datasets import mnist"
      ],
      "metadata": {
        "id": "eJiUvrAV0Ruh"
      },
      "execution_count": 60,
      "outputs": []
    },
    {
      "cell_type": "code",
      "source": [
        "(x_train,y_train),(x_test,y_test) = mnist.load_data()"
      ],
      "metadata": {
        "id": "5luzGsTU06T9"
      },
      "execution_count": 61,
      "outputs": []
    },
    {
      "cell_type": "code",
      "source": [
        "x_train= x_train/255\n",
        "x_test= x_test/255"
      ],
      "metadata": {
        "id": "uf6NQuh73N3m"
      },
      "execution_count": 62,
      "outputs": []
    },
    {
      "cell_type": "code",
      "source": [],
      "metadata": {
        "id": "cuGMm96e1U-V"
      },
      "execution_count": 62,
      "outputs": []
    },
    {
      "cell_type": "code",
      "source": [
        "y_train= to_categorical(y_train,num_classes=10)"
      ],
      "metadata": {
        "id": "Sq6NcQdOz2GR"
      },
      "execution_count": 63,
      "outputs": []
    },
    {
      "cell_type": "code",
      "source": [
        "y_test= to_categorical(y_test,num_classes=10)"
      ],
      "metadata": {
        "id": "VuZobg942FMz"
      },
      "execution_count": 64,
      "outputs": []
    },
    {
      "cell_type": "code",
      "source": [
        "import matplotlib.pyplot as plt\n",
        "plt.imshow(x_train[5])\n",
        "plt.title(f\"image label={y_train[5]}\")\n",
        "plt.show()"
      ],
      "metadata": {
        "colab": {
          "base_uri": "https://localhost:8080/",
          "height": 452
        },
        "id": "F35xIXxb1dmn",
        "outputId": "d0e46545-6690-4843-b79f-c0c5883c963e"
      },
      "execution_count": 65,
      "outputs": [
        {
          "output_type": "display_data",
          "data": {
            "text/plain": [
              "<Figure size 640x480 with 1 Axes>"
            ],
            "image/png": "[encoded data removed]"
          },
          "metadata": {}
        }
      ]
    },
    {
      "cell_type": "markdown",
      "source": [
        "Matplot library is used for data visualization"
      ],
      "metadata": {
        "id": "_hn5RDRG2BNS"
      }
    },
    {
      "cell_type": "markdown",
      "source": [
        "the image contains\n",
        " 28*28 pixels"
      ],
      "metadata": {
        "id": "RJCfNCSz2L2g"
      }
    },
    {
      "cell_type": "code",
      "source": [
        " from tensorflow.keras.layers import Dense , Flatten\n",
        " from tensorflow.keras.models import Sequential\n",
        " from tensorflow.keras.utils import to_categorical\n"
      ],
      "metadata": {
        "id": "jkUX1sAI17pr"
      },
      "execution_count": 66,
      "outputs": []
    },
    {
      "cell_type": "markdown",
      "source": [
        "sequential model refers to alignment of input hidden and output layer in an sequencial manner\n"
      ],
      "metadata": {
        "id": "DmizvN89r-_Y"
      }
    },
    {
      "cell_type": "markdown",
      "source": [
        "one to one architecture movement of data in one direction i.e for one input one output\n"
      ],
      "metadata": {
        "id": "hLQmVcEgsT-I"
      }
    },
    {
      "cell_type": "markdown",
      "source": [
        "Flattening layer transforms 2d matrix into a falttended layer 2d  matrix to 1d array input contains 784 layers"
      ],
      "metadata": {
        "id": "_WNMiUuJstSg"
      }
    },
    {
      "cell_type": "markdown",
      "source": [
        " Dense layer is used for feed forward neural networks which all the neurons from one layer are connected to all the nodes of subsequent layer number defines number of neurons dense refers to hidden layer and output layer with activation functions like relu and softmax to bring non linearity in data for multilevel we use softmax for binary we use sigmoid\n",
        ""
      ],
      "metadata": {
        "id": "nzIbDiyWtgLX"
      }
    },
    {
      "cell_type": "code",
      "source": [
        "model = Sequential([\n",
        "    Flatten(input_shape=(28,28)),\n",
        "    Dense(5,activation= \"relu\"),\n",
        "    Dense(10,activation= \"softmax\")\n",
        "])"
      ],
      "metadata": {
        "colab": {
          "base_uri": "https://localhost:8080/"
        },
        "id": "_xepXyLftCFy",
        "outputId": "787ea9c5-2ed1-4f7a-c16e-fc3e82ab5970"
      },
      "execution_count": 67,
      "outputs": [
        {
          "output_type": "stream",
          "name": "stderr",
          "text": [
            "/usr/local/lib/python3.10/dist-packages/keras/src/layers/reshaping/flatten.py:37: UserWarning: Do not pass an `input_shape`/`input_dim` argument to a layer. When using Sequential models, prefer using an `Input(shape)` object as the first layer in the model instead.\n",
            "  super().__init__(**kwargs)\n"
          ]
        }
      ]
    },
    {
      "cell_type": "code",
      "source": [
        "model.summary()"
      ],
      "metadata": {
        "colab": {
          "base_uri": "https://localhost:8080/",
          "height": 225
        },
        "id": "1tKsSDVEutfR",
        "outputId": "1cb06a32-e3e5-4862-818f-2c63d05a16d4"
      },
      "execution_count": 68,
      "outputs": [
        {
          "output_type": "display_data",
          "data": {
            "text/plain": [
              "\u001b[1mModel: \"sequential_4\"\u001b[0m\n"
            ],
            "text/html": [
              "<pre style=\"white-space:pre;overflow-x:auto;line-height:normal;font-family:Menlo,'DejaVu Sans Mono',consolas,'Courier New',monospace\"><span style=\"font-weight: bold\">Model: \"sequential_4\"</span>\n",
              "</pre>\n"
            ]
          },
          "metadata": {}
        },
        {
          "output_type": "display_data",
          "data": {
            "text/plain": [
              "┏━━━━━━━━━━━━━━━━━━━━━━━━━━━━━━━━━━━━━━┳━━━━━━━━━━━━━━━━━━━━━━━━━━━━━┳━━━━━━━━━━━━━━━━━┓\n",
              "┃\u001b[1m \u001b[0m\u001b[1mLayer (type)                        \u001b[0m\u001b[1m \u001b[0m┃\u001b[1m \u001b[0m\u001b[1mOutput Shape               \u001b[0m\u001b[1m \u001b[0m┃\u001b[1m \u001b[0m\u001b[1m        Param #\u001b[0m\u001b[1m \u001b[0m┃\n",
              "┡━━━━━━━━━━━━━━━━━━━━━━━━━━━━━━━━━━━━━━╇━━━━━━━━━━━━━━━━━━━━━━━━━━━━━╇━━━━━━━━━━━━━━━━━┩\n",
              "│ flatten_4 (\u001b[38;5;33mFlatten\u001b[0m)                  │ (\u001b[38;5;45mNone\u001b[0m, \u001b[38;5;34m784\u001b[0m)                 │               \u001b[38;5;34m0\u001b[0m │\n",
              "├──────────────────────────────────────┼─────────────────────────────┼─────────────────┤\n",
              "│ dense_8 (\u001b[38;5;33mDense\u001b[0m)                      │ (\u001b[38;5;45mNone\u001b[0m, \u001b[38;5;34m5\u001b[0m)                   │           \u001b[38;5;34m3,925\u001b[0m │\n",
              "├──────────────────────────────────────┼─────────────────────────────┼─────────────────┤\n",
              "│ dense_9 (\u001b[38;5;33mDense\u001b[0m)                      │ (\u001b[38;5;45mNone\u001b[0m, \u001b[38;5;34m10\u001b[0m)                  │              \u001b[38;5;34m60\u001b[0m │\n",
              "└──────────────────────────────────────┴─────────────────────────────┴─────────────────┘\n"
            ],
            "text/html": [
              "<pre style=\"white-space:pre;overflow-x:auto;line-height:normal;font-family:Menlo,'DejaVu Sans Mono',consolas,'Courier New',monospace\">┏━━━━━━━━━━━━━━━━━━━━━━━━━━━━━━━━━━━━━━┳━━━━━━━━━━━━━━━━━━━━━━━━━━━━━┳━━━━━━━━━━━━━━━━━┓\n",
              "┃<span style=\"font-weight: bold\"> Layer (type)                         </span>┃<span style=\"font-weight: bold\"> Output Shape                </span>┃<span style=\"font-weight: bold\">         Param # </span>┃\n",
              "┡━━━━━━━━━━━━━━━━━━━━━━━━━━━━━━━━━━━━━━╇━━━━━━━━━━━━━━━━━━━━━━━━━━━━━╇━━━━━━━━━━━━━━━━━┩\n",
              "│ flatten_4 (<span style=\"color: #0087ff; text-decoration-color: #0087ff\">Flatten</span>)                  │ (<span style=\"color: #00d7ff; text-decoration-color: #00d7ff\">None</span>, <span style=\"color: #00af00; text-decoration-color: #00af00\">784</span>)                 │               <span style=\"color: #00af00; text-decoration-color: #00af00\">0</span> │\n",
              "├──────────────────────────────────────┼─────────────────────────────┼─────────────────┤\n",
              "│ dense_8 (<span style=\"color: #0087ff; text-decoration-color: #0087ff\">Dense</span>)                      │ (<span style=\"color: #00d7ff; text-decoration-color: #00d7ff\">None</span>, <span style=\"color: #00af00; text-decoration-color: #00af00\">5</span>)                   │           <span style=\"color: #00af00; text-decoration-color: #00af00\">3,925</span> │\n",
              "├──────────────────────────────────────┼─────────────────────────────┼─────────────────┤\n",
              "│ dense_9 (<span style=\"color: #0087ff; text-decoration-color: #0087ff\">Dense</span>)                      │ (<span style=\"color: #00d7ff; text-decoration-color: #00d7ff\">None</span>, <span style=\"color: #00af00; text-decoration-color: #00af00\">10</span>)                  │              <span style=\"color: #00af00; text-decoration-color: #00af00\">60</span> │\n",
              "└──────────────────────────────────────┴─────────────────────────────┴─────────────────┘\n",
              "</pre>\n"
            ]
          },
          "metadata": {}
        },
        {
          "output_type": "display_data",
          "data": {
            "text/plain": [
              "\u001b[1m Total params: \u001b[0m\u001b[38;5;34m3,985\u001b[0m (15.57 KB)\n"
            ],
            "text/html": [
              "<pre style=\"white-space:pre;overflow-x:auto;line-height:normal;font-family:Menlo,'DejaVu Sans Mono',consolas,'Courier New',monospace\"><span style=\"font-weight: bold\"> Total params: </span><span style=\"color: #00af00; text-decoration-color: #00af00\">3,985</span> (15.57 KB)\n",
              "</pre>\n"
            ]
          },
          "metadata": {}
        },
        {
          "output_type": "display_data",
          "data": {
            "text/plain": [
              "\u001b[1m Trainable params: \u001b[0m\u001b[38;5;34m3,985\u001b[0m (15.57 KB)\n"
            ],
            "text/html": [
              "<pre style=\"white-space:pre;overflow-x:auto;line-height:normal;font-family:Menlo,'DejaVu Sans Mono',consolas,'Courier New',monospace\"><span style=\"font-weight: bold\"> Trainable params: </span><span style=\"color: #00af00; text-decoration-color: #00af00\">3,985</span> (15.57 KB)\n",
              "</pre>\n"
            ]
          },
          "metadata": {}
        },
        {
          "output_type": "display_data",
          "data": {
            "text/plain": [
              "\u001b[1m Non-trainable params: \u001b[0m\u001b[38;5;34m0\u001b[0m (0.00 B)\n"
            ],
            "text/html": [
              "<pre style=\"white-space:pre;overflow-x:auto;line-height:normal;font-family:Menlo,'DejaVu Sans Mono',consolas,'Courier New',monospace\"><span style=\"font-weight: bold\"> Non-trainable params: </span><span style=\"color: #00af00; text-decoration-color: #00af00\">0</span> (0.00 B)\n",
              "</pre>\n"
            ]
          },
          "metadata": {}
        }
      ]
    },
    {
      "cell_type": "markdown",
      "source": [
        "bias is also considered in finding all the parameters 785*5+\n",
        "5*10+10=\n",
        "3985\n"
      ],
      "metadata": {
        "id": "jZRBGLmQvC8t"
      }
    },
    {
      "cell_type": "code",
      "source": [
        "model.compile(optimizer=\"adam\",loss=\"categorical_crossentropy\",metrics= [\"accuracy\"])"
      ],
      "metadata": {
        "id": "nPnKn5PfvRej"
      },
      "execution_count": 69,
      "outputs": []
    },
    {
      "cell_type": "markdown",
      "source": [
        "metrics measures performance loss calculates total loss for each iteration how shall be back propagation is optimized for best optimed we use adam"
      ],
      "metadata": {
        "id": "lFlLnJSYxJIL"
      }
    },
    {
      "cell_type": "code",
      "source": [
        "model.fit(x_train,y_train,epochs=5,batch_size=32,verbose=2 )"
      ],
      "metadata": {
        "colab": {
          "base_uri": "https://localhost:8080/"
        },
        "id": "p5PVFX0svkUK",
        "outputId": "a1cb9387-85e4-447f-b54c-9a3854e34f1b"
      },
      "execution_count": 70,
      "outputs": [
        {
          "output_type": "stream",
          "name": "stdout",
          "text": [
            "Epoch 1/5\n",
            "1875/1875 - 4s - 2ms/step - accuracy: 0.6815 - loss: 0.9812\n",
            "Epoch 2/5\n",
            "1875/1875 - 4s - 2ms/step - accuracy: 0.8184 - loss: 0.6044\n",
            "Epoch 3/5\n",
            "1875/1875 - 3s - 1ms/step - accuracy: 0.8621 - loss: 0.4798\n",
            "Epoch 4/5\n",
            "1875/1875 - 3s - 1ms/step - accuracy: 0.8833 - loss: 0.4155\n",
            "Epoch 5/5\n",
            "1875/1875 - 3s - 2ms/step - accuracy: 0.8888 - loss: 0.3946\n"
          ]
        },
        {
          "output_type": "execute_result",
          "data": {
            "text/plain": [
              "<keras.src.callbacks.history.History at 0x7929fb547730>"
            ]
          },
          "metadata": {},
          "execution_count": 70
        }
      ]
    },
    {
      "cell_type": "markdown",
      "source": [
        "epochs refers to number of time total dataset is iterated batch size refers to in a single selection we take 32 parts as a batch and apply loss and optimizer function on batches by applying back propagation in parallel manner\n"
      ],
      "metadata": {
        "id": "O7G1XWa4yKBL"
      }
    },
    {
      "cell_type": "markdown",
      "source": [
        "60000/32 = 1875 batches run simultaneously for each iteration\n"
      ],
      "metadata": {
        "id": "QzUukCXS1oP9"
      }
    },
    {
      "cell_type": "code",
      "source": [
        "model.evaluate(x_test,y_test)"
      ],
      "metadata": {
        "colab": {
          "base_uri": "https://localhost:8080/"
        },
        "id": "muMOvqT71xjB",
        "outputId": "1daa3833-a0e1-494d-a810-f08e2f07016a"
      },
      "execution_count": 72,
      "outputs": [
        {
          "output_type": "stream",
          "name": "stdout",
          "text": [
            "\u001b[1m313/313\u001b[0m \u001b[32m━━━━━━━━━━━━━━━━━━━━\u001b[0m\u001b[37m\u001b[0m \u001b[1m1s\u001b[0m 1ms/step - accuracy: 0.8794 - loss: 0.4331\n"
          ]
        },
        {
          "output_type": "execute_result",
          "data": {
            "text/plain": [
              "[0.3864555358886719, 0.8921999931335449]"
            ]
          },
          "metadata": {},
          "execution_count": 72
        }
      ]
    },
    {
      "cell_type": "markdown",
      "source": [
        "loss is 0.3864\n",
        "accuracy 0.8921"
      ],
      "metadata": {
        "id": "K2r85Fo42Vsq"
      }
    },
    {
      "cell_type": "markdown",
      "source": [],
      "metadata": {
        "id": "cNoQgulm2c7t"
      }
    },
    {
      "cell_type": "code",
      "source": [
        "model.get_weights()\n"
      ],
      "metadata": {
        "colab": {
          "base_uri": "https://localhost:8080/"
        },
        "id": "vWoy95v52kkm",
        "outputId": "027dbbd3-77c3-4588-d1a3-5bd485e8e52b"
      },
      "execution_count": 73,
      "outputs": [
        {
          "output_type": "execute_result",
          "data": {
            "text/plain": [
              "[array([[ 0.08373204,  0.05408341, -0.07271647,  0.03223937,  0.07560349],\n",
              "        [-0.07319263,  0.03559703, -0.01140746, -0.03459173,  0.05014865],\n",
              "        [-0.05019457, -0.05898835, -0.01246226,  0.04486367, -0.03131331],\n",
              "        ...,\n",
              "        [ 0.0098398 , -0.00363719, -0.01382805, -0.07751416, -0.05492587],\n",
              "        [ 0.00104766, -0.00815853,  0.05538474,  0.02911848,  0.03224126],\n",
              "        [ 0.06601308, -0.01115929,  0.05282003, -0.00734641,  0.0265928 ]],\n",
              "       dtype=float32),\n",
              " array([ 0.57613826,  0.79365695,  0.7262848 ,  0.3284418 , -0.06569645],\n",
              "       dtype=float32),\n",
              " array([[-0.32420245, -1.02814   , -0.97414106, -0.28543133, -0.28248364,\n",
              "         -0.37839645, -1.4699242 ,  0.76148635, -0.07600058,  0.62215066],\n",
              "        [ 0.6410002 ,  0.8632214 , -0.73887515,  0.20339091, -0.34189746,\n",
              "          0.6014599 ,  0.29615626,  0.37511158, -0.97031605, -0.72785425],\n",
              "        [-0.4285454 , -0.08525041, -0.32295167, -0.8759728 ,  1.2866324 ,\n",
              "         -0.0092542 ,  1.1708764 , -0.76085746, -0.09494857,  0.06345629],\n",
              "        [-0.8584545 ,  1.483724  , -0.09012514,  0.9462432 ,  0.05031547,\n",
              "          0.311929  , -0.15432644, -0.3209522 ,  0.11744554, -0.01253736],\n",
              "        [ 0.46779907, -1.240602  ,  0.66210437, -0.03322159, -0.8094561 ,\n",
              "          0.05179379,  0.17155369, -1.2618024 ,  0.29095557, -0.68802655]],\n",
              "       dtype=float32),\n",
              " array([-1.1839281 ,  1.2580305 ,  2.172921  , -1.0193433 , -0.8109652 ,\n",
              "        -0.88834494, -0.40505326,  1.1706476 ,  0.11461633, -0.59516865],\n",
              "       dtype=float32)]"
            ]
          },
          "metadata": {},
          "execution_count": 73
        }
      ]
    }
  ]
}